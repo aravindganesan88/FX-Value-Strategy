{
 "cells": [
  {
   "cell_type": "code",
   "execution_count": 76,
   "metadata": {},
   "outputs": [],
   "source": [
    "import time\n",
    "import pandas as pd\n",
    "import numpy as np\n",
    "import datetime as datetime\n",
    "import math\n",
    "import matplotlib.pyplot as plt\n",
    "import matplotlib.dates as mdates\n",
    "from scipy.stats import skew\n",
    "from scipy.stats import kurtosis\n",
    "%matplotlib inline"
   ]
  },
  {
   "cell_type": "markdown",
   "metadata": {},
   "source": [
    "# Input and Generating Required Dataframes"
   ]
  },
  {
   "cell_type": "code",
   "execution_count": 77,
   "metadata": {},
   "outputs": [],
   "source": [
    "risk_free_rate = 0.02\n",
    "\n",
    "# Reading input file\n",
    "data = pd.read_csv('Exchange Rate_Final.csv')\n",
    "\n",
    "# Creating seperate dataframes for each currency (Nominal and Real)\n",
    "eur = data.loc[data['Currency Pair'] == 'USD/EUR']\n",
    "eur.columns = ['Date', 'Currency Pair', 'Type', 'EUR', 'nan']\n",
    "eur_nominal = eur[['Date', 'EUR']].loc[eur['Type'] == 'Nominal'].set_index('Date')\n",
    "eur_real = eur[['Date', 'EUR']].loc[eur['Type'] == 'Real'].set_index('Date')\n",
    "\n",
    "aud = data.loc[data['Currency Pair'] == 'USD/AUD']\n",
    "aud.columns = ['Date', 'Currency Pair', 'Type', 'AUD', 'nan']\n",
    "aud_nominal = aud[['Date', 'AUD']].loc[(aud['Type'] == 'Nominal') & (aud['Date'].isin(eur['Date']))].set_index('Date')\n",
    "aud_real = aud[['Date', 'AUD']].loc[(aud['Type'] == 'Real') & (aud['Date'].isin(eur['Date']))].set_index('Date')\n",
    "\n",
    "cad = data.loc[data['Currency Pair'] == 'USD/CAD']\n",
    "cad.columns = ['Date', 'Currency Pair', 'Type', 'CAD', 'nan']\n",
    "cad_nominal = cad[['Date', 'CAD']].loc[(cad['Type'] == 'Nominal') & (cad['Date'].isin(eur['Date']))].set_index('Date')\n",
    "cad_real = cad[['Date', 'CAD']].loc[(cad['Type'] == 'Real') & (cad['Date'].isin(eur['Date']))].set_index('Date')\n",
    "\n",
    "chf = data.loc[data['Currency Pair'] == 'USD/CHF']\n",
    "chf.columns = ['Date', 'Currency Pair', 'Type', 'CHF', 'nan']\n",
    "chf_nominal = chf[['Date', 'CHF']].loc[(chf['Type'] == 'Nominal') & (chf['Date'].isin(eur['Date']))].set_index('Date')\n",
    "chf_real = chf[['Date', 'CHF']].loc[(chf['Type'] == 'Real') & (chf['Date'].isin(eur['Date']))].set_index('Date')\n",
    "\n",
    "gbp = data.loc[data['Currency Pair'] == 'USD/GBP']\n",
    "gbp.columns = ['Date', 'Currency Pair', 'Type', 'GBP', 'nan']\n",
    "gbp_nominal = gbp[['Date', 'GBP']].loc[(gbp['Type'] == 'Nominal') & (gbp['Date'].isin(eur['Date']))].set_index('Date')\n",
    "gbp_real = gbp[['Date', 'GBP']].loc[(gbp['Type'] == 'Real') & (gbp['Date'].isin(eur['Date']))].set_index('Date')\n",
    "\n",
    "nok = data.loc[data['Currency Pair'] == 'USD/NOK']\n",
    "nok.columns = ['Date', 'Currency Pair', 'Type', 'NOK', 'nan']\n",
    "nok_nominal = nok[['Date', 'NOK']].loc[(nok['Type'] == 'Nominal') & (nok['Date'].isin(eur['Date']))].set_index('Date')\n",
    "nok_real = nok[['Date', 'NOK']].loc[(nok['Type'] == 'Real') & (nok['Date'].isin(eur['Date']))].set_index('Date')\n",
    "\n",
    "nzd = data.loc[data['Currency Pair'] == 'USD/NZD']\n",
    "nzd.columns = ['Date', 'Currency Pair', 'Type', 'NZD', 'nan']\n",
    "nzd_nominal = nzd[['Date', 'NZD']].loc[(nzd['Type'] == 'Nominal') & (nzd['Date'].isin(eur['Date']))].set_index('Date')\n",
    "nzd_real = nzd[['Date', 'NZD']].loc[(nzd['Type'] == 'Real') & (nzd['Date'].isin(eur['Date']))].set_index('Date')\n",
    "\n",
    "sek = data.loc[data['Currency Pair'] == 'USD/SEK']\n",
    "sek.columns = ['Date', 'Currency Pair', 'Type', 'SEK', 'nan']\n",
    "sek_nominal = sek[['Date', 'SEK']].loc[(sek['Type'] == 'Nominal') & (sek['Date'].isin(eur['Date']))].set_index('Date')\n",
    "sek_real = sek[['Date', 'SEK']].loc[(sek['Type'] == 'Real') & (sek['Date'].isin(eur['Date']))].set_index('Date')\n",
    "\n",
    "yen = data.loc[data['Currency Pair'] == 'USD/YEN']\n",
    "yen.columns = ['Date', 'Currency Pair', 'Type', 'YEN', 'nan']\n",
    "yen_nominal = yen[['Date', 'YEN']].loc[(yen['Type'] == 'Nominal') & (yen['Date'].isin(eur['Date']))].set_index('Date')\n",
    "yen_real = yen[['Date', 'YEN']].loc[(yen['Type'] == 'Real') & (yen['Date'].isin(eur['Date']))].set_index('Date')"
   ]
  },
  {
   "cell_type": "markdown",
   "metadata": {},
   "source": [
    "# Signal Generation and Portfolio Construction"
   ]
  },
  {
   "cell_type": "code",
   "execution_count": 78,
   "metadata": {},
   "outputs": [],
   "source": [
    "# Creating two dataframes\n",
    "nominal = pd.concat([aud_nominal['AUD'], cad_nominal['CAD'], chf_nominal['CHF'], eur_nominal['EUR'], gbp_nominal['GBP'], nok_nominal['NOK'], nzd_nominal['NZD'], sek_nominal['SEK'], yen_nominal['YEN']], axis = 1)\n",
    "real = pd.concat([aud_real['AUD'], cad_real['CAD'], chf_real['CHF'], eur_real['EUR'], gbp_real['GBP'], nok_real['NOK'], nzd_real['NZD'], sek_real['SEK'], yen_real['YEN']], axis = 1)\n",
    "\n",
    "# Generating returns\n",
    "returns = nominal/nominal.shift(-1) - 1\n",
    "\n",
    "# Signal Generation\n",
    "signal_temp = nominal/real - 1\n",
    "\n",
    "# Portfolio Construction\n",
    "signal = pd.DataFrame(np.zeros(shape = signal_temp.shape), columns = signal_temp.columns, index = signal_temp.index)\n",
    "top_n = 2\n",
    "for index, row in signal_temp.iterrows():\n",
    "        signal.loc[index, row.nlargest(top_n).index] = 1      \n",
    "for index, row in signal_temp.iterrows():\n",
    "        signal.loc[index, row.nsmallest(top_n).index] = -1\n",
    "        \n",
    "asset_returns = signal * returns\n",
    "portfolio_returns = (asset_returns.sum(axis = 1))/4\n",
    "cum_returns = np.cumprod((1 + portfolio_returns))\n",
    "cum_returns = cum_returns.shift(1)\n",
    "cum_returns[0] = 1"
   ]
  },
  {
   "cell_type": "markdown",
   "metadata": {
    "collapsed": true
   },
   "source": [
    "# Performance Analysis"
   ]
  },
  {
   "cell_type": "code",
   "execution_count": 110,
   "metadata": {},
   "outputs": [
    {
     "name": "stdout",
     "output_type": "stream",
     "text": [
      "------------------------PnL Graph---------------------------\n"
     ]
    },
    {
     "data": {
      "image/png": "[encoded data removed]",
      "text/plain": [
       "<Figure size 432x288 with 1 Axes>"
      ]
     },
     "metadata": {},
     "output_type": "display_data"
    },
    {
     "name": "stdout",
     "output_type": "stream",
     "text": [
      "\n",
      "\n",
      "Cumulative Return =  25.32%\n",
      "\n",
      "\n",
      "-----------------Daily Returns Statistics--------------------\n",
      "\n",
      "\n"
     ]
    },
    {
     "data": {
      "image/png": "[encoded data removed]",
      "text/plain": [
       "<Figure size 432x288 with 1 Axes>"
      ]
     },
     "metadata": {},
     "output_type": "display_data"
    },
    {
     "name": "stdout",
     "output_type": "stream",
     "text": [
      "Average Daily Returns =  0.10%\n",
      "Standard Deviation of Daily Returns =  0.009732796264818684\n",
      "Skewness of Daily Returns =  [0.29382752]\n",
      "Kurtosis of Daily Returns =  [0.64655616]\n",
      "\n",
      "\n",
      "-------------------Annualized Performance---------------------\n",
      "\n",
      "\n",
      "Annualized Return =  1.16%\n",
      "Sharpe Ratio =  0.09841225615145278\n"
     ]
    }
   ],
   "source": [
    "#Cummulative Return\n",
    "cum_return = cum_returns[cum_returns.index[-1]]\n",
    "dates = cum_returns.index\n",
    "print (\"------------------------PnL Graph---------------------------\")\n",
    "plt.plot(dates,(cum_returns-1)*100)\n",
    "plt.xlabel(\"Years\")\n",
    "plt.ylabel(\"Cumulative Returns [%]\")\n",
    "plt.title(\"Cumulative Return Graph\")\n",
    "plt.grid(axis='y', alpha=0.5)\n",
    "plt.show()\n",
    "print('\\n')\n",
    "print(\"Cumulative Return = \",\"{:.2%}\".format(cum_return-1))\n",
    "\n",
    "#print mean,std,shape\n",
    "print ('\\n')\n",
    "print('-----------------Daily Returns Statistics--------------------')\n",
    "print ('\\n')\n",
    "returns = portfolio_returns.to_frame()\n",
    "#returns1 = portfolio_returns\n",
    "my_list = returns1[0].tolist()\n",
    "x = my_list*100\n",
    "mean = np.mean(x)\n",
    "##print(x)\n",
    "plt.hist(x)\n",
    "plt.xlabel(\"Daily Returns in %\")\n",
    "plt.ylabel(\"Frequency\")\n",
    "#plt.axis([-10, 12, 0, 40])\n",
    "plt.grid(axis='y', alpha=0.5)\n",
    "plt.show()\n",
    "print('Average Daily Returns = ',\"{:.2%}\".format(mean))\n",
    "std = returns.std()\n",
    "print('Standard Deviation of Daily Returns = ', std[0])\n",
    "skewness = skew(returns)\n",
    "print('Skewness of Daily Returns = ', skewness)\n",
    "kurt = kurtosis(returns)\n",
    "print('Kurtosis of Daily Returns = ', kurt)\n",
    "\n",
    "print ('\\n')\n",
    "print ('-------------------Annualized Performance---------------------')\n",
    "print ('\\n')\n",
    "\n",
    "#Annualized Return\n",
    "ann_returns = (cum_returns[-1] ** (12.00/len(cum_returns)) - 1)\n",
    "print(\"Annualized Return = \",\"{:.2%}\".format(ann_returns))\n",
    "\n",
    "#Sharpe Ratio\n",
    "drfr = ((1+risk_free_rate)**(1/365))-1\n",
    "sharpe_ratio = (mean-drfr)/(std)\n",
    "print(\"Sharpe Ratio = \",sharpe_ratio[0])\n"
   ]
  },
  {
   "cell_type": "code",
   "execution_count": null,
   "metadata": {},
   "outputs": [],
   "source": []
  }
 ],
 "metadata": {
  "kernelspec": {
   "display_name": "Python 3",
   "language": "python",
   "name": "python3"
  },
  "language_info": {
   "codemirror_mode": {
    "name": "ipython",
    "version": 3
   },
   "file_extension": ".py",
   "mimetype": "text/x-python",
   "name": "python",
   "nbconvert_exporter": "python",
   "pygments_lexer": "ipython3",
   "version": "3.6.5"
  }
 },
 "nbformat": 4,
 "nbformat_minor": 2
}
